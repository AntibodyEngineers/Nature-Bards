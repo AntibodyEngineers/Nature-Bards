{
 "cells": [
  {
   "cell_type": "code",
   "execution_count": 1,
   "id": "431f290d-81c3-4ed8-a98a-959b2493a7c4",
   "metadata": {
    "scrolled": true
   },
   "outputs": [
    {
     "name": "stdout",
     "output_type": "stream",
     "text": [
      "Requirement already satisfied: mido in /opt/anaconda3/lib/python3.13/site-packages (1.3.3)\n",
      "Requirement already satisfied: python-rtmidi in /opt/anaconda3/lib/python3.13/site-packages (1.5.8)\n",
      "Requirement already satisfied: packaging in /opt/anaconda3/lib/python3.13/site-packages (from mido) (24.2)\n",
      "Note: you may need to restart the kernel to use updated packages.\n"
     ]
    }
   ],
   "source": [
    "pip install mido python-rtmidi\n"
   ]
  },
  {
   "cell_type": "code",
   "execution_count": 2,
   "id": "b413e5ac-0989-4bab-8172-b1d5b7b790ef",
   "metadata": {},
   "outputs": [],
   "source": [
    "from mido import Message, MidiFile, MidiTrack\n",
    "import math\n",
    "\n",
    "# Jacob's vibrational frequency mapping\n",
    "vibration_freq = {\n",
    "    'A': 329.628, 'R': 138.591, 'N': 82.4069, 'D': 246.924, 'C': 293.665,\n",
    "    'Q': 146.832, 'E': 110, 'G': 369.994, 'H': 146.832, 'I': 293.665,\n",
    "    'L': 77.7817, 'K': 246.942, 'M': 77.7817, 'F': 164.814, 'P': 116.541,\n",
    "    'S': 195.998, 'T': 293.665, 'W': 130.813, 'Y': 61.7354, 'V': 246.942\n",
    "}\n",
    "\n",
    "# Convert freq (Hz) to MIDI note\n",
    "def freq_to_midi_note(freq):\n",
    "    return int(round(69 + 12 * math.log2(freq / 440.0)))\n",
    "\n",
    "# Create track\n",
    "def create_track(sequence, instrument, name=\"\"):\n",
    "    track = MidiTrack()\n",
    "    track.append(Message('program_change', program=instrument, time=0))\n",
    "    for aa in sequence:\n",
    "        freq = vibration_freq.get(aa)\n",
    "        if freq:\n",
    "            note = freq_to_midi_note(freq)\n",
    "            track.append(Message('note_on', note=note, velocity=64, time=0))\n",
    "            track.append(Message('note_off', note=note, velocity=64, time=480))\n",
    "    return track\n",
    "\n",
    "# Nanobody 2VYR\n",
    "seq_2vyr = \"EVQLLESGGGLVQPGGSLRLSCAASGFTFEEYAMLWVRQAPGKGLEWVSGINARGYTTYYADSVKGRFTISRDNSKNTLYLQMNSLRTEDTAVYYCAKPWYPFMASKGSEFDYWGQGTLVTVSSAAALEIKRASQPELAPEDPEDVEHHHHHH\"\n",
    "fr2_2vyr = \"WVRQAPGKGLEWVSGINARGY\"  # placeholder from ModiBodies\n",
    "cdr3_2vyr = \"CAKPWYPFMASKGSEFDY\"     # placeholder from ModiBodies\n",
    "\n",
    "# Create MIDI\n",
    "mid = MidiFile()\n",
    "mid.tracks.append(create_track(seq_2vyr, instrument=0))       # Piano 🎹\n",
    "mid.tracks.append(create_track(fr2_2vyr, instrument=24))      # Guitar 🎸\n",
    "mid.tracks.append(create_track(cdr3_2vyr, instrument=114))    # Drums 🥁\n",
    "\n",
    "# Save\n",
    "mid.save(\"2VYR_music.mid\")\n"
   ]
  },
  {
   "cell_type": "code",
   "execution_count": 2,
   "id": "a2f7b36f-b0a7-44d1-9e75-b13b4918a540",
   "metadata": {},
   "outputs": [],
   "source": [
    "from mido import Message, MidiFile, MidiTrack\n",
    "import math\n",
    "\n",
    "# Jacob's vibrational frequency mapping\n",
    "vibration_freq = {\n",
    "    'A': 329.628, 'R': 138.591, 'N': 82.4069, 'D': 246.924, 'C': 293.665,\n",
    "    'Q': 146.832, 'E': 110, 'G': 369.994, 'H': 146.832, 'I': 293.665,\n",
    "    'L': 77.7817, 'K': 246.942, 'M': 77.7817, 'F': 164.814, 'P': 116.541,\n",
    "    'S': 195.998, 'T': 293.665, 'W': 130.813, 'Y': 61.7354, 'V': 246.942\n",
    "}\n",
    "\n",
    "# Convert freq (Hz) to MIDI note\n",
    "def freq_to_midi_note(freq):\n",
    "    return int(round(69 + 12 * math.log2(freq / 440.0)))\n",
    "\n",
    "# Create track\n",
    "def create_track(sequence, instrument, name=\"\"):\n",
    "    track = MidiTrack()\n",
    "    track.append(Message('program_change', program=instrument, time=0))\n",
    "    for aa in sequence:\n",
    "        freq = vibration_freq.get(aa)\n",
    "        if freq:\n",
    "            note = freq_to_midi_note(freq)\n",
    "            track.append(Message('note_on', note=note, velocity=64, time=0))\n",
    "            track.append(Message('note_off', note=note, velocity=64, time=480))\n",
    "    return track\n",
    "\n",
    "# Nanobody 2VYR\n",
    "seq_2vyr = \"EVQLLESGGGLVQPGGSLRLSCAASGFTFEEYAMLWVRQAPGKGLEWVSGINARGYTTYYADSVKGRFTISRDNSKNTLYLQMNSLRTEDTAVYYCAKPWYPFMASKGSEFDYWGQGTLVTVSSAAALEIKRASQPELAPEDPEDVEHHHHHH\"\n",
    "fr2_2vyr = \"WVRQAPGKGLEWVSGINARGY\"  # placeholder from ModiBodies\n",
    "cdr3_2vyr = \"CAKPWYPFMASKGSEFDY\"     # placeholder from ModiBodies\n",
    "\n",
    "# Create MIDI\n",
    "mid = MidiFile()\n",
    "mid.tracks.append(create_track(seq_2vyr, instrument=0))       # Piano 🎹\n",
    "mid.tracks.append(create_track(fr2_2vyr, instrument=24))      # Guitar 🎸\n",
    "mid.tracks.append(create_track(cdr3_2vyr, instrument=114))    # Drums 🥁\n",
    "\n",
    "# Save\n",
    "mid.save(\"2VYR_music.mid\")\n"
   ]
  },
  {
   "cell_type": "code",
   "execution_count": null,
   "id": "ced814f0-61f0-426c-aa95-cab643e37a93",
   "metadata": {},
   "outputs": [],
   "source": []
  }
 ],
 "metadata": {
  "kernelspec": {
   "display_name": "Python [conda env:base] *",
   "language": "python",
   "name": "conda-base-py"
  },
  "language_info": {
   "codemirror_mode": {
    "name": "ipython",
    "version": 3
   },
   "file_extension": ".py",
   "mimetype": "text/x-python",
   "name": "python",
   "nbconvert_exporter": "python",
   "pygments_lexer": "ipython3",
   "version": "3.13.5"
  }
 },
 "nbformat": 4,
 "nbformat_minor": 5
}
