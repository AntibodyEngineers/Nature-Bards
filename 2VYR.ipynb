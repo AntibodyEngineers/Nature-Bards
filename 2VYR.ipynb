{
 "cells": [
  {
   "cell_type": "code",
   "execution_count": 1,
   "id": "hZ3JyqI5w666",
   "metadata": {
    "id": "hZ3JyqI5w666"
   },
   "outputs": [],
   "source": [
    "#encode the 2VYR sequence\n",
    "sequence = \"EVQLLESGGGLVQPGGSLRLSCAASGFTFEEYAMLWVRQAPGKGLEWVSGINARGYTTYYADSVKGRFTISRDNSKNTLYLQMNSLRTEDTAVYYCAKPWYPFMASKGSEFDYWGQGTLVTVSSAAALEIKRASQPELAPEDPEDVEHHHHHH\"\n",
    "\n",
    "# Mapping each amino acid to a MIDI note\n",
    "aa_to_note = {\n",
    "    'A': 60, 'C': 61, 'D': 62, 'E': 63, 'F': 64,\n",
    "    'G': 65, 'H': 66, 'I': 67, 'K': 68, 'L': 69,\n",
    "    'M': 70, 'N': 71, 'P': 72, 'Q': 73, 'R': 74,\n",
    "    'S': 75, 'T': 76, 'V': 77, 'W': 78, 'Y': 79,\n",
    "}\n",
    "\n",
    "# This one finds the AA spots that trigger the second instrument\n",
    "def find_instrument2_segments(seq):\n",
    "    segments = []\n",
    "    i = 0\n",
    "    while i < len(seq) - 1:\n",
    "        if seq[i:i+2] == 'AA':\n",
    "            start = i\n",
    "            end = start + 7\n",
    "            found_y = False\n",
    "            for j in range(start + 7, min(start + 18, len(seq))):\n",
    "                if seq[j] == 'Y':\n",
    "                    end = j + 1\n",
    "                    found_y = True\n",
    "                    break\n",
    "            if not found_y:\n",
    "                end = min(start + 18, len(seq))\n",
    "            segments.append((start, end))\n",
    "            i = start + 1\n",
    "        else:\n",
    "            i += 1\n",
    "    return segments\n",
    "\n",
    "# This one finds all HHH stretches and continues until it hits something that's not H\n",
    "def find_hhh_segments(seq):\n",
    "    segments = []\n",
    "    i = 0\n",
    "    while i < len(seq) - 2:\n",
    "        if seq[i:i+3] == 'HHH':\n",
    "            start = i\n",
    "            end = i\n",
    "            while end < len(seq) and seq[end] == 'H':\n",
    "                end += 1\n",
    "            segments.append((start, end))\n",
    "            i = end\n",
    "        else:\n",
    "            i += 1\n",
    "    return segments\n"
   ]
  },
  {
   "cell_type": "code",
   "execution_count": 3,
   "id": "oQXo2ktdxGtm",
   "metadata": {
    "colab": {
     "base_uri": "https://localhost:8080/"
    },
    "id": "oQXo2ktdxGtm",
    "outputId": "61a8f19a-7b3a-4b74-a7ad-3b5869bf8ef9"
   },
   "outputs": [
    {
     "name": "stdout",
     "output_type": "stream",
     "text": [
      "Requirement already satisfied: MIDIUtil in /Users/sagransj/opt/anaconda3/lib/python3.9/site-packages (1.2.1)\n",
      "✅ MIDI file '2VYR.mid' created!\n"
     ]
    }
   ],
   "source": [
    "!pip install MIDIUtil\n",
    "\n",
    "from midiutil import MIDIFile\n",
    "\n",
    "# Create MIDI with 3 tracks this time: piano, violin, and drums\n",
    "mf = MIDIFile(3)\n",
    "mf.addTempo(0, 0, 120)\n",
    "mf.addTempo(1, 0, 120)\n",
    "mf.addTempo(2, 0, 120)\n",
    "\n",
    "# Piano (full sequence)\n",
    "mf.addProgramChange(0, 0, 0, 0)   # Piano\n",
    "# Violin (AA-triggered segments)\n",
    "mf.addProgramChange(1, 1, 0, 40)  # Violin\n",
    "# Drums are on channel 9 — we don’t need to set an instrument, it’s built-in\n",
    "\n",
    "# --- Instrument 1: Piano playing full sequence ---\n",
    "time = 0\n",
    "for aa in sequence:\n",
    "    if aa in aa_to_note:\n",
    "        note = aa_to_note[aa]\n",
    "        mf.addNote(track=0, channel=0, pitch=note, time=time, duration=1, volume=80)\n",
    "    time += 1\n",
    "\n",
    "# --- Instrument 2: Violin playing from AA to Y or 18 aa max ---\n",
    "segments = find_instrument2_segments(sequence)\n",
    "\n",
    "for start, end in segments:\n",
    "    time = start\n",
    "    for i in range(start, end):\n",
    "        aa = sequence[i]\n",
    "        if aa in aa_to_note:\n",
    "            note = aa_to_note[aa]\n",
    "            mf.addNote(track=1, channel=1, pitch=note, time=time, duration=1, volume=100)\n",
    "        time += 1\n",
    "\n",
    "# --- Instrument 3: Drums under HHH segments ---\n",
    "hhh_segments = find_hhh_segments(sequence)\n",
    "\n",
    "for start, end in hhh_segments:\n",
    "    time = start\n",
    "    for i in range(start, end):\n",
    "        # Snare drum = 38\n",
    "        mf.addNote(track=2, channel=9, pitch=38, time=time, duration=1, volume=120)\n",
    "        time += 1\n",
    "\n",
    "# Save it\n",
    "with open(\"2VYR.mid\", \"wb\") as output_file:\n",
    "    mf.writeFile(output_file)\n",
    "\n",
    "print(\"✅ MIDI file '2VYR.mid' created!\")"
   ]
  }
 ],
 "metadata": {
  "colab": {
   "provenance": []
  },
  "kernelspec": {
   "display_name": "Python [conda env:base] *",
   "language": "python",
   "name": "conda-base-py"
  },
  "language_info": {
   "codemirror_mode": {
    "name": "ipython",
    "version": 3
   },
   "file_extension": ".py",
   "mimetype": "text/x-python",
   "name": "python",
   "nbconvert_exporter": "python",
   "pygments_lexer": "ipython3",
   "version": "3.9.23"
  }
 },
 "nbformat": 4,
 "nbformat_minor": 5
}
